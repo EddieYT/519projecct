{
 "cells": [
  {
   "cell_type": "code",
   "execution_count": 81,
   "metadata": {},
   "outputs": [],
   "source": [
    "import json\n",
    "import numpy as np\n",
    "import pandas as pd\n",
    "import torch\n",
    "import matplotlib.pyplot as plt\n",
    "import torch.nn as nn\n",
    "import torch.nn.functional as F\n",
    "import torch.optim as optim\n",
    "from torch.utils.data import Dataset, DataLoader\n",
    "from torch.autograd import Variable\n",
    "import torchvision"
   ]
  },
  {
   "cell_type": "code",
   "execution_count": 82,
   "metadata": {},
   "outputs": [],
   "source": [
    "# Read in the json file as a python dict using photo_id as key\n",
    "yelp_data = {}\n",
    "with open('photos.json') as file:\n",
    "    for line in file:\n",
    "        cur_img = json.loads(line)\n",
    "        yelp_data[cur_img['photo_id']] = cur_img"
   ]
  },
  {
   "cell_type": "code",
   "execution_count": 84,
   "metadata": {},
   "outputs": [
    {
     "data": {
      "text/html": [
       "<div>\n",
       "<style scoped>\n",
       "    .dataframe tbody tr th:only-of-type {\n",
       "        vertical-align: middle;\n",
       "    }\n",
       "\n",
       "    .dataframe tbody tr th {\n",
       "        vertical-align: top;\n",
       "    }\n",
       "\n",
       "    .dataframe thead th {\n",
       "        text-align: right;\n",
       "    }\n",
       "</style>\n",
       "<table border=\"1\" class=\"dataframe\">\n",
       "  <thead>\n",
       "    <tr style=\"text-align: right;\">\n",
       "      <th></th>\n",
       "      <th>caption</th>\n",
       "      <th>photo_id</th>\n",
       "      <th>business_id</th>\n",
       "      <th>label</th>\n",
       "    </tr>\n",
       "  </thead>\n",
       "  <tbody>\n",
       "    <tr>\n",
       "      <th>---SnSf4OfUFfJmCxw1DZA</th>\n",
       "      <td></td>\n",
       "      <td>---SnSf4OfUFfJmCxw1DZA</td>\n",
       "      <td>XQ0RIDqgnkXueL6y1CY3Cg</td>\n",
       "      <td>food</td>\n",
       "    </tr>\n",
       "    <tr>\n",
       "      <th>--0uqWanwN31OkuuwJ1zjQ</th>\n",
       "      <td>Le Gadboi: Poutine with pogos and onion rings.</td>\n",
       "      <td>--0uqWanwN31OkuuwJ1zjQ</td>\n",
       "      <td>XIg92ukZJn_1aiNx0OmusQ</td>\n",
       "      <td>food</td>\n",
       "    </tr>\n",
       "    <tr>\n",
       "      <th>--3gCyYz0Eo3r07tAvUbhg</th>\n",
       "      <td>Their OMAKASE is AMAZING!!!!! Very recommended</td>\n",
       "      <td>--3gCyYz0Eo3r07tAvUbhg</td>\n",
       "      <td>VeiL_tgw7dsl-7IcnOsh0g</td>\n",
       "      <td>food</td>\n",
       "    </tr>\n",
       "    <tr>\n",
       "      <th>--3vR19cePIkGQBgcLsQkw</th>\n",
       "      <td>Big steak omelette</td>\n",
       "      <td>--3vR19cePIkGQBgcLsQkw</td>\n",
       "      <td>If6Bku2jkgPiikR6HBu-XQ</td>\n",
       "      <td>food</td>\n",
       "    </tr>\n",
       "    <tr>\n",
       "      <th>--7InqXrxwFUY6-ePZILpQ</th>\n",
       "      <td></td>\n",
       "      <td>--7InqXrxwFUY6-ePZILpQ</td>\n",
       "      <td>QJatAcxYgK1Zp9BRZMAx7g</td>\n",
       "      <td>food</td>\n",
       "    </tr>\n",
       "  </tbody>\n",
       "</table>\n",
       "</div>"
      ],
      "text/plain": [
       "                                                               caption  \\\n",
       "---SnSf4OfUFfJmCxw1DZA                                                   \n",
       "--0uqWanwN31OkuuwJ1zjQ  Le Gadboi: Poutine with pogos and onion rings.   \n",
       "--3gCyYz0Eo3r07tAvUbhg  Their OMAKASE is AMAZING!!!!! Very recommended   \n",
       "--3vR19cePIkGQBgcLsQkw                              Big steak omelette   \n",
       "--7InqXrxwFUY6-ePZILpQ                                                   \n",
       "\n",
       "                                      photo_id             business_id label  \n",
       "---SnSf4OfUFfJmCxw1DZA  ---SnSf4OfUFfJmCxw1DZA  XQ0RIDqgnkXueL6y1CY3Cg  food  \n",
       "--0uqWanwN31OkuuwJ1zjQ  --0uqWanwN31OkuuwJ1zjQ  XIg92ukZJn_1aiNx0OmusQ  food  \n",
       "--3gCyYz0Eo3r07tAvUbhg  --3gCyYz0Eo3r07tAvUbhg  VeiL_tgw7dsl-7IcnOsh0g  food  \n",
       "--3vR19cePIkGQBgcLsQkw  --3vR19cePIkGQBgcLsQkw  If6Bku2jkgPiikR6HBu-XQ  food  \n",
       "--7InqXrxwFUY6-ePZILpQ  --7InqXrxwFUY6-ePZILpQ  QJatAcxYgK1Zp9BRZMAx7g  food  "
      ]
     },
     "execution_count": 84,
     "metadata": {},
     "output_type": "execute_result"
    }
   ],
   "source": [
    "# Convert yelp_data into dataframe\n",
    "df = pd.DataFrame.from_dict(yelp_data, 'index')\n",
    "df.head()"
   ]
  },
  {
   "cell_type": "code",
   "execution_count": 89,
   "metadata": {},
   "outputs": [
    {
     "data": {
      "text/html": [
       "<div>\n",
       "<style scoped>\n",
       "    .dataframe tbody tr th:only-of-type {\n",
       "        vertical-align: middle;\n",
       "    }\n",
       "\n",
       "    .dataframe tbody tr th {\n",
       "        vertical-align: top;\n",
       "    }\n",
       "\n",
       "    .dataframe thead th {\n",
       "        text-align: right;\n",
       "    }\n",
       "</style>\n",
       "<table border=\"1\" class=\"dataframe\">\n",
       "  <thead>\n",
       "    <tr style=\"text-align: right;\">\n",
       "      <th></th>\n",
       "      <th>label</th>\n",
       "      <th>count</th>\n",
       "    </tr>\n",
       "  </thead>\n",
       "  <tbody>\n",
       "    <tr>\n",
       "      <th>0</th>\n",
       "      <td>drink</td>\n",
       "      <td>6620</td>\n",
       "    </tr>\n",
       "    <tr>\n",
       "      <th>1</th>\n",
       "      <td>food</td>\n",
       "      <td>132354</td>\n",
       "    </tr>\n",
       "    <tr>\n",
       "      <th>2</th>\n",
       "      <td>inside</td>\n",
       "      <td>47959</td>\n",
       "    </tr>\n",
       "    <tr>\n",
       "      <th>3</th>\n",
       "      <td>menu</td>\n",
       "      <td>894</td>\n",
       "    </tr>\n",
       "    <tr>\n",
       "      <th>4</th>\n",
       "      <td>outside</td>\n",
       "      <td>19122</td>\n",
       "    </tr>\n",
       "  </tbody>\n",
       "</table>\n",
       "</div>"
      ],
      "text/plain": [
       "     label   count\n",
       "0    drink    6620\n",
       "1     food  132354\n",
       "2   inside   47959\n",
       "3     menu     894\n",
       "4  outside   19122"
      ]
     },
     "execution_count": 89,
     "metadata": {},
     "output_type": "execute_result"
    }
   ],
   "source": [
    "df.groupby('label', as_index=False).agg({'business_id': 'count'}).rename(columns={'business_id': 'count'})"
   ]
  },
  {
   "cell_type": "code",
   "execution_count": 90,
   "metadata": {},
   "outputs": [],
   "source": [
    "# Get all the file names of photos\n",
    "import os\n",
    "cwd = os.getcwd()\n",
    "photos = os.listdir(cwd + \"/yelp_photos\")"
   ]
  },
  {
   "cell_type": "code",
   "execution_count": 91,
   "metadata": {},
   "outputs": [],
   "source": [
    "# Convert images into a list of numpy arrays, and a list of integers\n",
    "label_map = {0:\"drink\", 1: \"food\", 2: \"inside\", 3: \"outside\", 4: \"menu\"}\n",
    "np_imgs = []\n",
    "np_labels = []\n",
    "for p in photos:\n",
    "    data = plt.imread('yelp_photos/' + p)\n",
    "    np_imgs.append(data) \n",
    "    p_id = os.path.splitext(p)[0]\n",
    "    if yelp_data[p_id]['label'] == 'drink':\n",
    "        np_labels.append(0)\n",
    "    elif yelp_data[p_id]['label'] == 'food':\n",
    "        np_labels.append(1)\n",
    "    elif yelp_data[p_id]['label'] == 'inside':\n",
    "        np_labels.append(2)\n",
    "    elif yelp_data[p_id]['label'] == 'outside':\n",
    "        np_labels.append(3)\n",
    "    else:\n",
    "        np_labels.append(4)"
   ]
  },
  {
   "cell_type": "code",
   "execution_count": 96,
   "metadata": {},
   "outputs": [
    {
     "ename": "SyntaxError",
     "evalue": "non-default argument follows default argument (<ipython-input-96-0efdd5f59307>, line 2)",
     "output_type": "error",
     "traceback": [
      "\u001b[0;36m  File \u001b[0;32m\"<ipython-input-96-0efdd5f59307>\"\u001b[0;36m, line \u001b[0;32m2\u001b[0m\n\u001b[0;31m    def __init__(self, train=True, normalize=False, np_imgs, np_labels):\u001b[0m\n\u001b[0m                ^\u001b[0m\n\u001b[0;31mSyntaxError\u001b[0m\u001b[0;31m:\u001b[0m non-default argument follows default argument\n"
     ]
    }
   ],
   "source": [
    "class Dataset(Dataset):\n",
    "    def __init__(self, train=True, normalize=False, np_imgs, np_labels):\n",
    "        \"\"\"\n",
    "        \"\"\"\n",
    "        X = np_imgs.astype(float)\n",
    "        y = np_labels.astype(float)  \n",
    "        print(X.shape)\n",
    "        if normalize:\n",
    "            for index, img in enumerate(X):\n",
    "                img_mean = img.mean()\n",
    "                img_std = img.std()\n",
    "                img = (img - img_mean) / img_std\n",
    "                X[index] = img\n",
    "            \n",
    "        self.len = X.shape[0]\n",
    "        self.x_data = torch.from_numpy(X).float()\n",
    "        self.y_data = torch.from_numpy(y).float()\n",
    "\n",
    "    def __len__(self):\n",
    "        \n",
    "        return self.len\n",
    "\n",
    "    def __getitem__(self, idx):\n",
    "        \n",
    "        return self.x_data[idx], self.y_data[idx]"
   ]
  },
  {
   "cell_type": "code",
   "execution_count": null,
   "metadata": {},
   "outputs": [],
   "source": []
  }
 ],
 "metadata": {
  "kernelspec": {
   "display_name": "Python 3",
   "language": "python",
   "name": "python3"
  },
  "language_info": {
   "codemirror_mode": {
    "name": "ipython",
    "version": 3
   },
   "file_extension": ".py",
   "mimetype": "text/x-python",
   "name": "python",
   "nbconvert_exporter": "python",
   "pygments_lexer": "ipython3",
   "version": "3.6.0"
  }
 },
 "nbformat": 4,
 "nbformat_minor": 2
}
