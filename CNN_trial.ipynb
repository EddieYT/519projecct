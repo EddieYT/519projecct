{
 "cells": [
  {
   "cell_type": "code",
   "execution_count": 6,
   "metadata": {},
   "outputs": [],
   "source": [
    "import json\n",
    "import numpy as np\n",
    "import torch\n",
    "import matplotlib.pyplot as plt\n",
    "import torch.nn as nn\n",
    "import torch.nn.functional as F\n",
    "import torch.optim as optim\n",
    "from torch.utils.data import Dataset, DataLoader\n",
    "from torch.autograd import Variable\n",
    "import torchvision"
   ]
  },
  {
   "cell_type": "code",
   "execution_count": 4,
   "metadata": {},
   "outputs": [],
   "source": [
    "yelp = {}\n",
    "with open('yelp_photos/photos.json') as file:\n",
    "    for line in file:\n",
    "        cur_img = json.loads(line)\n",
    "        yelp[cur_img['photo_id']] = cur_img"
   ]
  },
  {
   "cell_type": "code",
   "execution_count": 5,
   "metadata": {},
   "outputs": [
    {
     "name": "stdout",
     "output_type": "stream",
     "text": [
      "0 {'caption': '', 'photo_id': 'soK1szeyan202jnsGhUDmA', 'business_id': 'OnAzbTDn79W6CFZIriqLrA', 'label': 'inside'}\n",
      "1 {'caption': '', 'photo_id': 'dU7AyRB_fHOZkflodEyN5A', 'business_id': 'OnAzbTDn79W6CFZIriqLrA', 'label': 'inside'}\n",
      "2 {'caption': '', 'photo_id': '6T1qlbBdKkXA1cDNqMjg2g', 'business_id': 'OnAzbTDn79W6CFZIriqLrA', 'label': 'outside'}\n",
      "3 {'caption': 'Bakery area', 'photo_id': 'lHhMNhCA7rAZmi-MMfF3ZA', 'business_id': 'OnAzbTDn79W6CFZIriqLrA', 'label': 'inside'}\n",
      "4 {'caption': '', 'photo_id': 'oHSCeyoK9oLIGaCZq-wRJw', 'business_id': 'XaeCGHZzsMwvFcHYq3q9sA', 'label': 'food'}\n",
      "5 {'caption': '', 'photo_id': 'EN9qzZpxfv00B_4X6q5lYA', 'business_id': 'XaeCGHZzsMwvFcHYq3q9sA', 'label': 'food'}\n",
      "6 {'caption': '', 'photo_id': 'M6c0qxQQwWkUzAxIvoTFuQ', 'business_id': 'XaeCGHZzsMwvFcHYq3q9sA', 'label': 'food'}\n",
      "7 {'caption': '', 'photo_id': '876EKnk6deA7xA4i1aipJg', 'business_id': 'XaeCGHZzsMwvFcHYq3q9sA', 'label': 'food'}\n",
      "8 {'caption': '', 'photo_id': 'NFCDwGr_-TEiw9bzx3nFKw', 'business_id': 'XaeCGHZzsMwvFcHYq3q9sA', 'label': 'food'}\n",
      "9 {'caption': '', 'photo_id': 'YDmNsu38Nk2rPZMFEWBzvw', 'business_id': 'XaeCGHZzsMwvFcHYq3q9sA', 'label': 'food'}\n",
      "10 {'caption': '', 'photo_id': 'UIx1UZw3ohK95t3DJC46bA', 'business_id': '4l56EXyCWwPlPXcX9qq-jw', 'label': 'inside'}\n"
     ]
    }
   ],
   "source": [
    "for index, key in enumerate(yelp):\n",
    "    if index > 10: break\n",
    "    print(index, yelp[key])"
   ]
  },
  {
   "cell_type": "code",
   "execution_count": null,
   "metadata": {
    "collapsed": true
   },
   "outputs": [],
   "source": []
  }
 ],
 "metadata": {
  "kernelspec": {
   "display_name": "Python 3",
   "language": "python",
   "name": "python3"
  },
  "language_info": {
   "codemirror_mode": {
    "name": "ipython",
    "version": 3
   },
   "file_extension": ".py",
   "mimetype": "text/x-python",
   "name": "python",
   "nbconvert_exporter": "python",
   "pygments_lexer": "ipython3",
   "version": "3.6.0"
  }
 },
 "nbformat": 4,
 "nbformat_minor": 2
}
